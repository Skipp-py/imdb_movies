{
 "cells": [
  {
   "cell_type": "code",
   "execution_count": 1,
   "id": "5889cccc",
   "metadata": {},
   "outputs": [
    {
     "name": "stderr",
     "output_type": "stream",
     "text": [
      "Registered S3 methods overwritten by 'ggplot2':\n",
      "  method         from \n",
      "  [.quosures     rlang\n",
      "  c.quosures     rlang\n",
      "  print.quosures rlang\n",
      "Registered S3 method overwritten by 'rvest':\n",
      "  method            from\n",
      "  read_xml.response xml2\n",
      "── Attaching packages ─────────────────────────────────────── tidyverse 1.2.1 ──\n",
      "✔ ggplot2 3.1.1       ✔ purrr   0.3.2  \n",
      "✔ tibble  2.1.1       ✔ dplyr   0.8.0.1\n",
      "✔ tidyr   0.8.3       ✔ stringr 1.4.0  \n",
      "✔ readr   1.3.1       ✔ forcats 0.4.0  \n",
      "── Conflicts ────────────────────────────────────────── tidyverse_conflicts() ──\n",
      "✖ dplyr::filter() masks stats::filter()\n",
      "✖ dplyr::lag()    masks stats::lag()\n",
      "\n",
      "Attaching package: ‘lubridate’\n",
      "\n",
      "The following object is masked from ‘package:base’:\n",
      "\n",
      "    date\n",
      "\n"
     ]
    }
   ],
   "source": [
    "library(tidyverse)\n",
    "library(lubridate)"
   ]
  },
  {
   "cell_type": "code",
   "execution_count": 2,
   "id": "93c59443",
   "metadata": {},
   "outputs": [
    {
     "name": "stderr",
     "output_type": "stream",
     "text": [
      "Warning message:\n",
      "“Missing column names filled in: 'X1' [1]”"
     ]
    }
   ],
   "source": [
    "imdb = read_csv(\"imdb.csv\", \n",
    "                 col_types = cols(Date = col_date(format = \"%Y\"), \n",
    "                                  Rate = col_number(), \n",
    "                                  Votes = col_number(), \n",
    "                                  Duration = col_number()))"
   ]
  },
  {
   "cell_type": "code",
   "execution_count": 3,
   "id": "c9a3970b",
   "metadata": {},
   "outputs": [
    {
     "data": {
      "text/html": [
       "<dl class=dl-horizontal>\n",
       "\t<dt>Date</dt>\n",
       "\t\t<dd>'numeric'</dd>\n",
       "\t<dt>Rate</dt>\n",
       "\t\t<dd>'numeric'</dd>\n",
       "\t<dt>Votes</dt>\n",
       "\t\t<dd>'numeric'</dd>\n",
       "\t<dt>Action</dt>\n",
       "\t\t<dd>'numeric'</dd>\n",
       "\t<dt>Adventure</dt>\n",
       "\t\t<dd>'numeric'</dd>\n",
       "\t<dt>Animation</dt>\n",
       "\t\t<dd>'numeric'</dd>\n",
       "\t<dt>Biography</dt>\n",
       "\t\t<dd>'numeric'</dd>\n",
       "\t<dt>Comedy</dt>\n",
       "\t\t<dd>'numeric'</dd>\n",
       "\t<dt>Crime</dt>\n",
       "\t\t<dd>'numeric'</dd>\n",
       "\t<dt>Documentary</dt>\n",
       "\t\t<dd>'numeric'</dd>\n",
       "\t<dt>Drama</dt>\n",
       "\t\t<dd>'numeric'</dd>\n",
       "\t<dt>Family</dt>\n",
       "\t\t<dd>'numeric'</dd>\n",
       "\t<dt>Fantasy</dt>\n",
       "\t\t<dd>'numeric'</dd>\n",
       "\t<dt>Film-Noir</dt>\n",
       "\t\t<dd>'numeric'</dd>\n",
       "\t<dt>History</dt>\n",
       "\t\t<dd>'numeric'</dd>\n",
       "\t<dt>Horror</dt>\n",
       "\t\t<dd>'numeric'</dd>\n",
       "\t<dt>Music</dt>\n",
       "\t\t<dd>'numeric'</dd>\n",
       "\t<dt>Musical</dt>\n",
       "\t\t<dd>'numeric'</dd>\n",
       "\t<dt>Mystery</dt>\n",
       "\t\t<dd>'numeric'</dd>\n",
       "\t<dt>Romance</dt>\n",
       "\t\t<dd>'numeric'</dd>\n",
       "\t<dt>Sci-Fi</dt>\n",
       "\t\t<dd>'numeric'</dd>\n",
       "\t<dt>Short</dt>\n",
       "\t\t<dd>'numeric'</dd>\n",
       "\t<dt>Sport</dt>\n",
       "\t\t<dd>'numeric'</dd>\n",
       "\t<dt>Thriller</dt>\n",
       "\t\t<dd>'numeric'</dd>\n",
       "\t<dt>War</dt>\n",
       "\t\t<dd>'numeric'</dd>\n",
       "\t<dt>Western</dt>\n",
       "\t\t<dd>'numeric'</dd>\n",
       "\t<dt>Duration</dt>\n",
       "\t\t<dd>'numeric'</dd>\n",
       "\t<dt>Certificate</dt>\n",
       "\t\t<dd>'factor'</dd>\n",
       "\t<dt>Nudity</dt>\n",
       "\t\t<dd>'factor'</dd>\n",
       "\t<dt>Violence</dt>\n",
       "\t\t<dd>'factor'</dd>\n",
       "\t<dt>Profanity</dt>\n",
       "\t\t<dd>'factor'</dd>\n",
       "\t<dt>Alcohol</dt>\n",
       "\t\t<dd>'factor'</dd>\n",
       "\t<dt>Frightening</dt>\n",
       "\t\t<dd>'factor'</dd>\n",
       "</dl>\n"
      ],
      "text/latex": [
       "\\begin{description*}\n",
       "\\item[Date] 'numeric'\n",
       "\\item[Rate] 'numeric'\n",
       "\\item[Votes] 'numeric'\n",
       "\\item[Action] 'numeric'\n",
       "\\item[Adventure] 'numeric'\n",
       "\\item[Animation] 'numeric'\n",
       "\\item[Biography] 'numeric'\n",
       "\\item[Comedy] 'numeric'\n",
       "\\item[Crime] 'numeric'\n",
       "\\item[Documentary] 'numeric'\n",
       "\\item[Drama] 'numeric'\n",
       "\\item[Family] 'numeric'\n",
       "\\item[Fantasy] 'numeric'\n",
       "\\item[Film-Noir] 'numeric'\n",
       "\\item[History] 'numeric'\n",
       "\\item[Horror] 'numeric'\n",
       "\\item[Music] 'numeric'\n",
       "\\item[Musical] 'numeric'\n",
       "\\item[Mystery] 'numeric'\n",
       "\\item[Romance] 'numeric'\n",
       "\\item[Sci-Fi] 'numeric'\n",
       "\\item[Short] 'numeric'\n",
       "\\item[Sport] 'numeric'\n",
       "\\item[Thriller] 'numeric'\n",
       "\\item[War] 'numeric'\n",
       "\\item[Western] 'numeric'\n",
       "\\item[Duration] 'numeric'\n",
       "\\item[Certificate] 'factor'\n",
       "\\item[Nudity] 'factor'\n",
       "\\item[Violence] 'factor'\n",
       "\\item[Profanity] 'factor'\n",
       "\\item[Alcohol] 'factor'\n",
       "\\item[Frightening] 'factor'\n",
       "\\end{description*}\n"
      ],
      "text/markdown": [
       "Date\n",
       ":   'numeric'Rate\n",
       ":   'numeric'Votes\n",
       ":   'numeric'Action\n",
       ":   'numeric'Adventure\n",
       ":   'numeric'Animation\n",
       ":   'numeric'Biography\n",
       ":   'numeric'Comedy\n",
       ":   'numeric'Crime\n",
       ":   'numeric'Documentary\n",
       ":   'numeric'Drama\n",
       ":   'numeric'Family\n",
       ":   'numeric'Fantasy\n",
       ":   'numeric'Film-Noir\n",
       ":   'numeric'History\n",
       ":   'numeric'Horror\n",
       ":   'numeric'Music\n",
       ":   'numeric'Musical\n",
       ":   'numeric'Mystery\n",
       ":   'numeric'Romance\n",
       ":   'numeric'Sci-Fi\n",
       ":   'numeric'Short\n",
       ":   'numeric'Sport\n",
       ":   'numeric'Thriller\n",
       ":   'numeric'War\n",
       ":   'numeric'Western\n",
       ":   'numeric'Duration\n",
       ":   'numeric'Certificate\n",
       ":   'factor'Nudity\n",
       ":   'factor'Violence\n",
       ":   'factor'Profanity\n",
       ":   'factor'Alcohol\n",
       ":   'factor'Frightening\n",
       ":   'factor'\n",
       "\n"
      ],
      "text/plain": [
       "       Date        Rate       Votes      Action   Adventure   Animation \n",
       "  \"numeric\"   \"numeric\"   \"numeric\"   \"numeric\"   \"numeric\"   \"numeric\" \n",
       "  Biography      Comedy       Crime Documentary       Drama      Family \n",
       "  \"numeric\"   \"numeric\"   \"numeric\"   \"numeric\"   \"numeric\"   \"numeric\" \n",
       "    Fantasy   Film-Noir     History      Horror       Music     Musical \n",
       "  \"numeric\"   \"numeric\"   \"numeric\"   \"numeric\"   \"numeric\"   \"numeric\" \n",
       "    Mystery     Romance      Sci-Fi       Short       Sport    Thriller \n",
       "  \"numeric\"   \"numeric\"   \"numeric\"   \"numeric\"   \"numeric\"   \"numeric\" \n",
       "        War     Western    Duration Certificate      Nudity    Violence \n",
       "  \"numeric\"   \"numeric\"   \"numeric\"    \"factor\"    \"factor\"    \"factor\" \n",
       "  Profanity     Alcohol Frightening \n",
       "   \"factor\"    \"factor\"    \"factor\" "
      ]
     },
     "metadata": {},
     "output_type": "display_data"
    }
   ],
   "source": [
    "imdb = imdb[-c(1,2,6,31)]\n",
    "\n",
    "imdb = imdb %>% \n",
    "    mutate_if(is.character,as.factor)\n",
    "\n",
    "imdb$Date = year(imdb$Date)\n",
    "\n",
    "sapply(imdb, class)"
   ]
  },
  {
   "cell_type": "code",
   "execution_count": 8,
   "id": "c7b026b3",
   "metadata": {},
   "outputs": [
    {
     "ename": "ERROR",
     "evalue": "Error in parse(text = x, srcfile = src): <text>:1:7: unexpected symbol\n1: conda install\n          ^\n",
     "output_type": "error",
     "traceback": [
      "Error in parse(text = x, srcfile = src): <text>:1:7: unexpected symbol\n1: conda install\n          ^\nTraceback:\n"
     ]
    }
   ],
   "source": [
    "conda install r-catboost"
   ]
  }
 ],
 "metadata": {
  "kernelspec": {
   "display_name": "R",
   "language": "R",
   "name": "ir"
  },
  "language_info": {
   "codemirror_mode": "r",
   "file_extension": ".r",
   "mimetype": "text/x-r-source",
   "name": "R",
   "pygments_lexer": "r",
   "version": "3.6.1"
  }
 },
 "nbformat": 4,
 "nbformat_minor": 5
}
